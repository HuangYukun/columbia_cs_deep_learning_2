{
 "cells": [
  {
   "cell_type": "markdown",
   "metadata": {},
   "source": [
    "# ECBM E4040 - Assignment 2- Task 5: Kaggle Open-ended Competition\n",
    "\n",
    "Kaggle is a platform for predictive modelling and analytics competitions in which companies and researchers post data and statisticians and data miners compete to produce the best models for predicting and describing the data.\n",
    "\n",
    "If you don't have a Kaggle account, feel free to join at [www.kaggle.com](https://www.kaggle.com). To let the TAs do the grading more conveniently, please use Lionmail to join Kaggle and use UNI as your username.\n",
    "\n",
    "Visit the website for this competition to join: \n",
    "[https://www.kaggle.com/t/8dd419892b1c49a3afb0cea385a7e677](https://www.kaggle.com/t/8dd419892b1c49a3afb0cea385a7e677)\n",
    "\n",
    "Details about this in-class competition is shown on the website above. Please read carefully.\n",
    "\n",
    "<span style=\"color:red\">__TODO__:</span>\n",
    "1. Train a custom model for the bottle dataset classification problem. You are free to use any methods taught in the class or found by yourself on the Internet (ALWAYS provide reference to the source). General training methods include:\n",
    "    * Dropout\n",
    "    * Batch normalization\n",
    "    * Early stopping\n",
    "    * l1-norm & l2-norm penalization\n",
    "2. You'll be given the test set to generate your predictions (70% public + 30% private, but you don't know which ones are public/private). Achieve 70% accuracy on the public test set. The accuracy will be shown on the public leaderboard once you submit your prediction .csv file. \n",
    "3. (A) Report your results on the Kaggle, for comparison with other students' optimization results (you should do this several times). (C) Save your best model, using BitBucket, at the same time when you (B) submit the homework files into Courseworks. See instructions below. \n",
    "\n",
    "__Hint__: You can start from what you implemented in task 4. Another classic classification model named 'VGG16' can also be easily implemented."
   ]
  },
  {
   "cell_type": "code",
   "execution_count": null,
   "metadata": {
    "collapsed": true
   },
   "outputs": [],
   "source": [
    "import os\n",
    "from s"
   ]
  },
  {
   "cell_type": "markdown",
   "metadata": {},
   "source": [
    "## HW Submission Details:\n",
    "There are three components to reporting the results of this task: \n",
    "\n",
    "**(A) Submission (possible several) of the .csv prediction file throught the Kaggle platform;**. You should start doing this VARY early, so that students can compare their work as they are making progress with model optimization.\n",
    "\n",
    "**(B) Editing and submitting the content of this Jupyter notebook, through Courseworks; **\n",
    "(i) The code for your CNN model and for the training function. The code should be stored in __./ecbm4040/neuralnets/kaggle.py__;\n",
    "(ii) Print out your training process and accuracy __within this notebook__;\n",
    "\n",
    "**(C) Submitting your best CNN model through instructor-owned private BitBucket repo.**\n",
    "\n",
    "**Description of (C):** \n",
    "For this task, you will be utilizing bitbucket to save your model for submission. Bitbucket provides Git code managment. For those who are not familiar with git operations, please check [Learn Git with Bitbucket Cloud](https://www.atlassian.com/git/tutorials/learn-git-with-bitbucket-cloud) as reference.\n",
    "**TAs will create a private Bitbucket repository for each student, with the write access. This repo will be owned by the instructors. Make sure to properly submit your model to that exact repository (submissions to your own private repository will not count)** Students need to populate the following file to provide instructors with bitbucket account information: https://docs.google.com/spreadsheets/d/1_7cZjyr34I2y-AD_0N5UaJ3ZnqdhYcvrdoTsYvOSd-g/edit#gid=0.\n",
    "\n",
    "<span style=\"color:red\">__Submission content:__ :</span>\n",
    "(i) Upload your best model with all the data output (for example, __MODEL.data-00000-of-00001, MODEL.meta, MODEL.index__) into the  BitBucket. Store your model in the folder named \"__KaggleModel__\" within the BitBucket repository. \n",
    "Remember to delete any intermediate results, **we only want your best model. Do not upload any data files**. The instructors will rerun the uploaded best model and verify against the score which you reported on the Kaggle.\n",
    "\n"
   ]
  },
  {
   "cell_type": "code",
   "execution_count": 1,
   "metadata": {},
   "outputs": [
    {
     "name": "stdout",
     "output_type": "stream",
     "text": [
      "(15000, 128, 128, 3) (15000,)\n"
     ]
    }
   ],
   "source": [
    "import scipy.ndimage\n",
    "import glob\n",
    "import numpy as np\n",
    "# image = scipy.ndimage.imread('./train_128/0/0.png')\n",
    "image_list = []\n",
    "for filename in glob.glob('./train_128/0/*.png'):\n",
    "    im = scipy.ndimage.imread(filename)\n",
    "    image_list.append(im)\n",
    "for filename in glob.glob('./train_128/1/*.png'):\n",
    "    im = scipy.ndimage.imread(filename)\n",
    "    image_list.append(im)\n",
    "for filename in glob.glob('./train_128/2/*.png'):\n",
    "    im = scipy.ndimage.imread(filename)\n",
    "    image_list.append(im)\n",
    "for filename in glob.glob('./train_128/3/*.png'):\n",
    "    im = scipy.ndimage.imread(filename)\n",
    "    image_list.append(im)\n",
    "for filename in glob.glob('./train_128/4/*.png'):\n",
    "    im = scipy.ndimage.imread(filename)\n",
    "    image_list.append(im)\n",
    "X_train_raw = np.asarray(image_list)\n",
    "y_train_raw = np.concatenate((np.full(3000, 0),np.full(3000, 1),np.full(3000, 2),\\\n",
    "                         np.full(3000, 3),np.full(3000, 4)))\n",
    "print(X_train_raw.shape, y_train_raw.shape)"
   ]
  },
  {
   "cell_type": "code",
   "execution_count": 52,
   "metadata": {
    "collapsed": true
   },
   "outputs": [],
   "source": [
    "permutation = np.random.permutation(X_train_raw.shape[0])\n",
    "X_train = X_train_raw[permutation]\n",
    "y_train = y_train_raw[permutation]\n",
    "\n",
    "X_train = X_train.reshape(-1,128*128*3)"
   ]
  },
  {
   "cell_type": "code",
   "execution_count": 2,
   "metadata": {},
   "outputs": [
    {
     "name": "stdout",
     "output_type": "stream",
     "text": [
      "Train data shape:  (12000, 128, 128, 3)\n",
      "Train labels shape:  (12000,)\n",
      "Validation data shape:  (3000, 128, 128, 3)\n",
      "Validation labels shape:  (3000,)\n"
     ]
    }
   ],
   "source": [
    "num_train = 12000\n",
    "num_val = 3000\n",
    "# num_test = 10000\n",
    "\n",
    "permutation = np.random.permutation(X_train_raw.shape[0])\n",
    "X_train = X_train_raw[permutation]\n",
    "y_train = y_train_raw[permutation]\n",
    "\n",
    "X_train = X_train.reshape(-1,128*128*3)\n",
    "\n",
    "X_val = X_train[num_train:]\n",
    "y_val = y_train[num_train:]\n",
    "\n",
    "X_train = X_train[:num_train]\n",
    "y_train = y_train[:num_train]\n",
    "\n",
    "mean_image = np.mean(X_train, axis=0)\n",
    "X_train = X_train.astype(np.float32) - mean_image.astype(np.float32)\n",
    "X_val = X_val.astype(np.float32) - mean_image\n",
    "\n",
    "X_train = X_train.reshape([-1,128,128,3])/255\n",
    "X_val = X_val.reshape([-1,128,128,3])/255\n",
    "\n",
    "print('Train data shape: ', X_train.shape)\n",
    "print('Train labels shape: ', y_train.shape)\n",
    "print('Validation data shape: ', X_val.shape)\n",
    "print('Validation labels shape: ', y_val.shape)"
   ]
  },
  {
   "cell_type": "markdown",
   "metadata": {},
   "source": [
    "## Train your model here"
   ]
  },
  {
   "cell_type": "code",
   "execution_count": 3,
   "metadata": {},
   "outputs": [
    {
     "name": "stdout",
     "output_type": "stream",
     "text": [
      "Train data shape:  (12000, 128, 128, 3)\n",
      "Train labels shape:  (12000,)\n",
      "Validation data shape:  (3000, 128, 128, 3)\n",
      "Validation labels shape:  (3000,)\n"
     ]
    }
   ],
   "source": [
    "import tensorflow as tf\n",
    "from ecbm4040.neuralnets.kaggle import kaggle_training\n",
    "print('Train data shape: ', X_train.shape)\n",
    "print('Train labels shape: ', y_train.shape)\n",
    "print('Validation data shape: ', X_val.shape)\n",
    "print('Validation labels shape: ', y_val.shape)"
   ]
  },
  {
   "cell_type": "code",
   "execution_count": 4,
   "metadata": {},
   "outputs": [
    {
     "name": "stdout",
     "output_type": "stream",
     "text": [
      "Building my myLeNet. Parameters: \n",
      "conv_featmap=[6, 16]\n",
      "fc_units=[84]\n",
      "conv_kernel_size=[5, 5]\n",
      "pooling_size=[2, 2]\n",
      "l2_norm=0.01\n",
      "seed=235\n",
      "learning_rate=0.01\n",
      "number of batches for training: 48\n",
      "epoch 1 \n",
      "epoch 2 \n",
      "epoch 3 \n",
      "Best validation accuracy! iteration:100 accuracy: 72.46666666666667%\n",
      "epoch 4 \n",
      "epoch 5 \n",
      "Best validation accuracy! iteration:200 accuracy: 79.0%\n",
      "epoch 6 \n",
      "epoch 7 \n",
      "Best validation accuracy! iteration:300 accuracy: 81.8%\n",
      "epoch 8 \n",
      "epoch 9 \n",
      "epoch 10 \n",
      "epoch 11 \n",
      "Best validation accuracy! iteration:500 accuracy: 82.73333333333333%\n",
      "epoch 12 \n",
      "epoch 13 \n",
      "epoch 14 \n",
      "epoch 15 \n",
      "epoch 16 \n",
      "epoch 17 \n",
      "epoch 18 \n",
      "epoch 19 \n",
      "epoch 20 \n",
      "Traning ends. The best valid accuracy is 82.73333333333333. Model named my_lenet_1509682076.\n"
     ]
    }
   ],
   "source": [
    "tf.reset_default_graph()\n",
    "# my_training(X_train, y_train, X_val, y_val)\n",
    "kaggle_training(X_train, y_train, X_val, y_val, \n",
    "         conv_featmap=[6, 16],\n",
    "         fc_units=[84],\n",
    "         conv_kernel_size=[5, 5],\n",
    "         pooling_size=[2, 2],\n",
    "         l2_norm=0.01,\n",
    "         seed=235,\n",
    "         learning_rate=1e-2,\n",
    "         epoch=20,\n",
    "         batch_size=245,\n",
    "         verbose=False,\n",
    "         pre_trained_model=None)"
   ]
  },
  {
   "cell_type": "markdown",
   "metadata": {},
   "source": [
    "## Save your best model"
   ]
  },
  {
   "cell_type": "code",
   "execution_count": 103,
   "metadata": {
    "collapsed": true
   },
   "outputs": [],
   "source": [
    "# YOUR CODE HERE\n",
    "# my_lenet_1509664442\n",
    "image_list = []\n",
    "\n",
    "extension = '.png'\n",
    "path_to_image_folder = './test_128/'\n",
    "num_test_samples = 3500\n",
    "img_names = [path_to_image_folder+str(idx)+extension for idx in range(num_test_samples)]\n",
    "# print(img_names)\n",
    "\n",
    "for filename in img_names:\n",
    "    im = scipy.ndimage.imread(filename)\n",
    "    image_list.append(im)\n",
    "X_test = np.asarray(image_list)\n",
    "\n",
    "# for filename in glob.glob('./test_128/*.png'):\n",
    "#     im = scipy.ndimage.imread(filename)\n",
    "#     image_list.append(im)\n",
    "# X_test = np.asarray(image_list)\n"
   ]
  },
  {
   "cell_type": "code",
   "execution_count": 109,
   "metadata": {},
   "outputs": [
    {
     "name": "stdout",
     "output_type": "stream",
     "text": [
      "INFO:tensorflow:Restoring parameters from model/my_lenet_1509682076\n",
      "[0 3 2 ..., 4 4 4]\n"
     ]
    }
   ],
   "source": [
    "tf.reset_default_graph()\n",
    "with tf.Session() as sess: \n",
    "\n",
    "        saver = tf.train.import_meta_graph('model/my_lenet_1509682076.meta')\n",
    "        saver.restore(sess, tf.train.latest_checkpoint('model/'))\n",
    "        graph = tf.get_default_graph()\n",
    "\n",
    "        tf_input = graph.get_operations()[0].name+':0'\n",
    "        x = graph.get_tensor_by_name(tf_input)\n",
    "        \n",
    "        tf_output = 'fc_layer_1/Add:0'\n",
    "        y = graph.get_tensor_by_name(tf_output)\n",
    "        # Make prediciton\n",
    "#         y_out = sess.run(y, feed_dict={x: X_train_raw[13000:13200]})\n",
    "        \n",
    "        y_out = sess.run(y, feed_dict={x: X_test})\n",
    "#         y_out = sess.run(y, feed_dict={x: X_val[0:10]})\n",
    "        y_pred = np.argmax(y_out,axis=1)\n",
    "        print(y_pred)"
   ]
  },
  {
   "cell_type": "markdown",
   "metadata": {},
   "source": [
    "## Generate .csv file for Kaggle"
   ]
  },
  {
   "cell_type": "code",
   "execution_count": 110,
   "metadata": {
    "collapsed": true
   },
   "outputs": [],
   "source": [
    "# The following code snippet can be used to generate your prediction .csv file.\n",
    "\n",
    "import csv\n",
    "with open('predicted_2.csv','w') as csvfile:\n",
    "    fieldnames = ['Id','label']\n",
    "    writer = csv.DictWriter(csvfile, fieldnames=fieldnames)\n",
    "    writer.writeheader()    \n",
    "    for index,l in enumerate(y_pred):\n",
    "        filename = str(index)+'.png'\n",
    "        label = str(l)\n",
    "        writer.writerow({'Id': filename, 'label': label})"
   ]
  }
 ],
 "metadata": {
  "kernelspec": {
   "display_name": "Python 3",
   "language": "python",
   "name": "python3"
  },
  "language_info": {
   "codemirror_mode": {
    "name": "ipython",
    "version": 3
   },
   "file_extension": ".py",
   "mimetype": "text/x-python",
   "name": "python",
   "nbconvert_exporter": "python",
   "pygments_lexer": "ipython3",
   "version": "3.6.1"
  }
 },
 "nbformat": 4,
 "nbformat_minor": 2
}
